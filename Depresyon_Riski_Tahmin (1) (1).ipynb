{
  "nbformat": 4,
  "nbformat_minor": 0,
  "metadata": {
    "colab": {
      "provenance": []
    },
    "kernelspec": {
      "name": "python3",
      "display_name": "Python 3"
    },
    "language_info": {
      "name": "python"
    }
  },
  "cells": [
    {
      "cell_type": "code",
      "execution_count": 10,
      "metadata": {
        "id": "8SqCHmZhtFLa"
      },
      "outputs": [],
      "source": [
        "import pandas as pd\n",
        "import numpy as np\n",
        "import seaborn as sns\n",
        "import matplotlib.pyplot as plt\n",
        "from sklearn.model_selection import train_test_split\n",
        "from sklearn.preprocessing import StandardScaler, LabelEncoder\n",
        "from sklearn.ensemble import RandomForestClassifier\n",
        "from sklearn.metrics import classification_report, confusion_matrix, accuracy_score"
      ]
    },
    {
      "cell_type": "code",
      "source": [
        "df = pd.read_csv(\"saglik_depresyon_veri.csv\")"
      ],
      "metadata": {
        "id": "1ntSaJMetJPl"
      },
      "execution_count": 11,
      "outputs": []
    },
    {
      "cell_type": "code",
      "source": [
        "df.head()"
      ],
      "metadata": {
        "colab": {
          "base_uri": "https://localhost:8080/",
          "height": 486
        },
        "id": "Itzvy0eDtTdg",
        "outputId": "e214ed3f-ebd5-41c7-9ee3-ac3fadc6ed38"
      },
      "execution_count": 12,
      "outputs": [
        {
          "output_type": "execute_result",
          "data": {
            "text/plain": [
              "                            KullaniciID  Yas Cinsiyet  UykuSuresiSaat  \\\n",
              "0  0489def6-5e72-42bf-9394-8cc5e7a31c77   63    Erkek             6.7   \n",
              "1  4278934a-8664-4548-886a-1c8e1a1c7556   59    Erkek             6.1   \n",
              "2  937f2a6f-deea-4e7b-85eb-7d473d00e1ab   20    Kadın             6.7   \n",
              "3  5b47d696-ab68-4754-9d38-6e6a7b9bbbe1   27    Diğer             8.6   \n",
              "4  5b6afb3b-5bc7-4289-bd8f-4c4bf34e1e38   32    Erkek             6.6   \n",
              "\n",
              "   EgzersizSıkligiHafta  GunlukEkranSuresiSaat IstahSeviyesi  StresSeviyesi  \\\n",
              "0                     4                    6.8            Az              8   \n",
              "1                     2                    5.0        Normal              6   \n",
              "2                     4                    6.3           Çok              4   \n",
              "3                     4                    4.5            Az              6   \n",
              "4                     3                    5.2            Az              2   \n",
              "\n",
              "   Nabiz Sigara AlkolTuketimi  MentalSaglikSkoru DepresyonRiski  \n",
              "0     93  Hayır            Az                 10          Hayır  \n",
              "1     80  Hayır         Fazla                 25          Hayır  \n",
              "2     86   Evet            Az                 17          Hayır  \n",
              "3     87  Hayır          Orta                 25          Hayır  \n",
              "4     60  Hayır           Hiç                 24          Hayır  "
            ],
            "text/html": [
              "\n",
              "  <div id=\"df-dbe76eca-e09d-4537-9285-f42632b60769\" class=\"colab-df-container\">\n",
              "    <div>\n",
              "<style scoped>\n",
              "    .dataframe tbody tr th:only-of-type {\n",
              "        vertical-align: middle;\n",
              "    }\n",
              "\n",
              "    .dataframe tbody tr th {\n",
              "        vertical-align: top;\n",
              "    }\n",
              "\n",
              "    .dataframe thead th {\n",
              "        text-align: right;\n",
              "    }\n",
              "</style>\n",
              "<table border=\"1\" class=\"dataframe\">\n",
              "  <thead>\n",
              "    <tr style=\"text-align: right;\">\n",
              "      <th></th>\n",
              "      <th>KullaniciID</th>\n",
              "      <th>Yas</th>\n",
              "      <th>Cinsiyet</th>\n",
              "      <th>UykuSuresiSaat</th>\n",
              "      <th>EgzersizSıkligiHafta</th>\n",
              "      <th>GunlukEkranSuresiSaat</th>\n",
              "      <th>IstahSeviyesi</th>\n",
              "      <th>StresSeviyesi</th>\n",
              "      <th>Nabiz</th>\n",
              "      <th>Sigara</th>\n",
              "      <th>AlkolTuketimi</th>\n",
              "      <th>MentalSaglikSkoru</th>\n",
              "      <th>DepresyonRiski</th>\n",
              "    </tr>\n",
              "  </thead>\n",
              "  <tbody>\n",
              "    <tr>\n",
              "      <th>0</th>\n",
              "      <td>0489def6-5e72-42bf-9394-8cc5e7a31c77</td>\n",
              "      <td>63</td>\n",
              "      <td>Erkek</td>\n",
              "      <td>6.7</td>\n",
              "      <td>4</td>\n",
              "      <td>6.8</td>\n",
              "      <td>Az</td>\n",
              "      <td>8</td>\n",
              "      <td>93</td>\n",
              "      <td>Hayır</td>\n",
              "      <td>Az</td>\n",
              "      <td>10</td>\n",
              "      <td>Hayır</td>\n",
              "    </tr>\n",
              "    <tr>\n",
              "      <th>1</th>\n",
              "      <td>4278934a-8664-4548-886a-1c8e1a1c7556</td>\n",
              "      <td>59</td>\n",
              "      <td>Erkek</td>\n",
              "      <td>6.1</td>\n",
              "      <td>2</td>\n",
              "      <td>5.0</td>\n",
              "      <td>Normal</td>\n",
              "      <td>6</td>\n",
              "      <td>80</td>\n",
              "      <td>Hayır</td>\n",
              "      <td>Fazla</td>\n",
              "      <td>25</td>\n",
              "      <td>Hayır</td>\n",
              "    </tr>\n",
              "    <tr>\n",
              "      <th>2</th>\n",
              "      <td>937f2a6f-deea-4e7b-85eb-7d473d00e1ab</td>\n",
              "      <td>20</td>\n",
              "      <td>Kadın</td>\n",
              "      <td>6.7</td>\n",
              "      <td>4</td>\n",
              "      <td>6.3</td>\n",
              "      <td>Çok</td>\n",
              "      <td>4</td>\n",
              "      <td>86</td>\n",
              "      <td>Evet</td>\n",
              "      <td>Az</td>\n",
              "      <td>17</td>\n",
              "      <td>Hayır</td>\n",
              "    </tr>\n",
              "    <tr>\n",
              "      <th>3</th>\n",
              "      <td>5b47d696-ab68-4754-9d38-6e6a7b9bbbe1</td>\n",
              "      <td>27</td>\n",
              "      <td>Diğer</td>\n",
              "      <td>8.6</td>\n",
              "      <td>4</td>\n",
              "      <td>4.5</td>\n",
              "      <td>Az</td>\n",
              "      <td>6</td>\n",
              "      <td>87</td>\n",
              "      <td>Hayır</td>\n",
              "      <td>Orta</td>\n",
              "      <td>25</td>\n",
              "      <td>Hayır</td>\n",
              "    </tr>\n",
              "    <tr>\n",
              "      <th>4</th>\n",
              "      <td>5b6afb3b-5bc7-4289-bd8f-4c4bf34e1e38</td>\n",
              "      <td>32</td>\n",
              "      <td>Erkek</td>\n",
              "      <td>6.6</td>\n",
              "      <td>3</td>\n",
              "      <td>5.2</td>\n",
              "      <td>Az</td>\n",
              "      <td>2</td>\n",
              "      <td>60</td>\n",
              "      <td>Hayır</td>\n",
              "      <td>Hiç</td>\n",
              "      <td>24</td>\n",
              "      <td>Hayır</td>\n",
              "    </tr>\n",
              "  </tbody>\n",
              "</table>\n",
              "</div>\n",
              "    <div class=\"colab-df-buttons\">\n",
              "\n",
              "  <div class=\"colab-df-container\">\n",
              "    <button class=\"colab-df-convert\" onclick=\"convertToInteractive('df-dbe76eca-e09d-4537-9285-f42632b60769')\"\n",
              "            title=\"Convert this dataframe to an interactive table.\"\n",
              "            style=\"display:none;\">\n",
              "\n",
              "  <svg xmlns=\"http://www.w3.org/2000/svg\" height=\"24px\" viewBox=\"0 -960 960 960\">\n",
              "    <path d=\"M120-120v-720h720v720H120Zm60-500h600v-160H180v160Zm220 220h160v-160H400v160Zm0 220h160v-160H400v160ZM180-400h160v-160H180v160Zm440 0h160v-160H620v160ZM180-180h160v-160H180v160Zm440 0h160v-160H620v160Z\"/>\n",
              "  </svg>\n",
              "    </button>\n",
              "\n",
              "  <style>\n",
              "    .colab-df-container {\n",
              "      display:flex;\n",
              "      gap: 12px;\n",
              "    }\n",
              "\n",
              "    .colab-df-convert {\n",
              "      background-color: #E8F0FE;\n",
              "      border: none;\n",
              "      border-radius: 50%;\n",
              "      cursor: pointer;\n",
              "      display: none;\n",
              "      fill: #1967D2;\n",
              "      height: 32px;\n",
              "      padding: 0 0 0 0;\n",
              "      width: 32px;\n",
              "    }\n",
              "\n",
              "    .colab-df-convert:hover {\n",
              "      background-color: #E2EBFA;\n",
              "      box-shadow: 0px 1px 2px rgba(60, 64, 67, 0.3), 0px 1px 3px 1px rgba(60, 64, 67, 0.15);\n",
              "      fill: #174EA6;\n",
              "    }\n",
              "\n",
              "    .colab-df-buttons div {\n",
              "      margin-bottom: 4px;\n",
              "    }\n",
              "\n",
              "    [theme=dark] .colab-df-convert {\n",
              "      background-color: #3B4455;\n",
              "      fill: #D2E3FC;\n",
              "    }\n",
              "\n",
              "    [theme=dark] .colab-df-convert:hover {\n",
              "      background-color: #434B5C;\n",
              "      box-shadow: 0px 1px 3px 1px rgba(0, 0, 0, 0.15);\n",
              "      filter: drop-shadow(0px 1px 2px rgba(0, 0, 0, 0.3));\n",
              "      fill: #FFFFFF;\n",
              "    }\n",
              "  </style>\n",
              "\n",
              "    <script>\n",
              "      const buttonEl =\n",
              "        document.querySelector('#df-dbe76eca-e09d-4537-9285-f42632b60769 button.colab-df-convert');\n",
              "      buttonEl.style.display =\n",
              "        google.colab.kernel.accessAllowed ? 'block' : 'none';\n",
              "\n",
              "      async function convertToInteractive(key) {\n",
              "        const element = document.querySelector('#df-dbe76eca-e09d-4537-9285-f42632b60769');\n",
              "        const dataTable =\n",
              "          await google.colab.kernel.invokeFunction('convertToInteractive',\n",
              "                                                    [key], {});\n",
              "        if (!dataTable) return;\n",
              "\n",
              "        const docLinkHtml = 'Like what you see? Visit the ' +\n",
              "          '<a target=\"_blank\" href=https://colab.research.google.com/notebooks/data_table.ipynb>data table notebook</a>'\n",
              "          + ' to learn more about interactive tables.';\n",
              "        element.innerHTML = '';\n",
              "        dataTable['output_type'] = 'display_data';\n",
              "        await google.colab.output.renderOutput(dataTable, element);\n",
              "        const docLink = document.createElement('div');\n",
              "        docLink.innerHTML = docLinkHtml;\n",
              "        element.appendChild(docLink);\n",
              "      }\n",
              "    </script>\n",
              "  </div>\n",
              "\n",
              "\n",
              "    <div id=\"df-805a60a3-b9ac-4503-a8d2-31c23c93c495\">\n",
              "      <button class=\"colab-df-quickchart\" onclick=\"quickchart('df-805a60a3-b9ac-4503-a8d2-31c23c93c495')\"\n",
              "                title=\"Suggest charts\"\n",
              "                style=\"display:none;\">\n",
              "\n",
              "<svg xmlns=\"http://www.w3.org/2000/svg\" height=\"24px\"viewBox=\"0 0 24 24\"\n",
              "     width=\"24px\">\n",
              "    <g>\n",
              "        <path d=\"M19 3H5c-1.1 0-2 .9-2 2v14c0 1.1.9 2 2 2h14c1.1 0 2-.9 2-2V5c0-1.1-.9-2-2-2zM9 17H7v-7h2v7zm4 0h-2V7h2v10zm4 0h-2v-4h2v4z\"/>\n",
              "    </g>\n",
              "</svg>\n",
              "      </button>\n",
              "\n",
              "<style>\n",
              "  .colab-df-quickchart {\n",
              "      --bg-color: #E8F0FE;\n",
              "      --fill-color: #1967D2;\n",
              "      --hover-bg-color: #E2EBFA;\n",
              "      --hover-fill-color: #174EA6;\n",
              "      --disabled-fill-color: #AAA;\n",
              "      --disabled-bg-color: #DDD;\n",
              "  }\n",
              "\n",
              "  [theme=dark] .colab-df-quickchart {\n",
              "      --bg-color: #3B4455;\n",
              "      --fill-color: #D2E3FC;\n",
              "      --hover-bg-color: #434B5C;\n",
              "      --hover-fill-color: #FFFFFF;\n",
              "      --disabled-bg-color: #3B4455;\n",
              "      --disabled-fill-color: #666;\n",
              "  }\n",
              "\n",
              "  .colab-df-quickchart {\n",
              "    background-color: var(--bg-color);\n",
              "    border: none;\n",
              "    border-radius: 50%;\n",
              "    cursor: pointer;\n",
              "    display: none;\n",
              "    fill: var(--fill-color);\n",
              "    height: 32px;\n",
              "    padding: 0;\n",
              "    width: 32px;\n",
              "  }\n",
              "\n",
              "  .colab-df-quickchart:hover {\n",
              "    background-color: var(--hover-bg-color);\n",
              "    box-shadow: 0 1px 2px rgba(60, 64, 67, 0.3), 0 1px 3px 1px rgba(60, 64, 67, 0.15);\n",
              "    fill: var(--button-hover-fill-color);\n",
              "  }\n",
              "\n",
              "  .colab-df-quickchart-complete:disabled,\n",
              "  .colab-df-quickchart-complete:disabled:hover {\n",
              "    background-color: var(--disabled-bg-color);\n",
              "    fill: var(--disabled-fill-color);\n",
              "    box-shadow: none;\n",
              "  }\n",
              "\n",
              "  .colab-df-spinner {\n",
              "    border: 2px solid var(--fill-color);\n",
              "    border-color: transparent;\n",
              "    border-bottom-color: var(--fill-color);\n",
              "    animation:\n",
              "      spin 1s steps(1) infinite;\n",
              "  }\n",
              "\n",
              "  @keyframes spin {\n",
              "    0% {\n",
              "      border-color: transparent;\n",
              "      border-bottom-color: var(--fill-color);\n",
              "      border-left-color: var(--fill-color);\n",
              "    }\n",
              "    20% {\n",
              "      border-color: transparent;\n",
              "      border-left-color: var(--fill-color);\n",
              "      border-top-color: var(--fill-color);\n",
              "    }\n",
              "    30% {\n",
              "      border-color: transparent;\n",
              "      border-left-color: var(--fill-color);\n",
              "      border-top-color: var(--fill-color);\n",
              "      border-right-color: var(--fill-color);\n",
              "    }\n",
              "    40% {\n",
              "      border-color: transparent;\n",
              "      border-right-color: var(--fill-color);\n",
              "      border-top-color: var(--fill-color);\n",
              "    }\n",
              "    60% {\n",
              "      border-color: transparent;\n",
              "      border-right-color: var(--fill-color);\n",
              "    }\n",
              "    80% {\n",
              "      border-color: transparent;\n",
              "      border-right-color: var(--fill-color);\n",
              "      border-bottom-color: var(--fill-color);\n",
              "    }\n",
              "    90% {\n",
              "      border-color: transparent;\n",
              "      border-bottom-color: var(--fill-color);\n",
              "    }\n",
              "  }\n",
              "</style>\n",
              "\n",
              "      <script>\n",
              "        async function quickchart(key) {\n",
              "          const quickchartButtonEl =\n",
              "            document.querySelector('#' + key + ' button');\n",
              "          quickchartButtonEl.disabled = true;  // To prevent multiple clicks.\n",
              "          quickchartButtonEl.classList.add('colab-df-spinner');\n",
              "          try {\n",
              "            const charts = await google.colab.kernel.invokeFunction(\n",
              "                'suggestCharts', [key], {});\n",
              "          } catch (error) {\n",
              "            console.error('Error during call to suggestCharts:', error);\n",
              "          }\n",
              "          quickchartButtonEl.classList.remove('colab-df-spinner');\n",
              "          quickchartButtonEl.classList.add('colab-df-quickchart-complete');\n",
              "        }\n",
              "        (() => {\n",
              "          let quickchartButtonEl =\n",
              "            document.querySelector('#df-805a60a3-b9ac-4503-a8d2-31c23c93c495 button');\n",
              "          quickchartButtonEl.style.display =\n",
              "            google.colab.kernel.accessAllowed ? 'block' : 'none';\n",
              "        })();\n",
              "      </script>\n",
              "    </div>\n",
              "\n",
              "    </div>\n",
              "  </div>\n"
            ],
            "application/vnd.google.colaboratory.intrinsic+json": {
              "type": "dataframe",
              "variable_name": "df"
            }
          },
          "metadata": {},
          "execution_count": 12
        }
      ]
    },
    {
      "cell_type": "code",
      "source": [
        "df.isnull().sum()"
      ],
      "metadata": {
        "colab": {
          "base_uri": "https://localhost:8080/",
          "height": 491
        },
        "id": "ebMPCkVKtYBL",
        "outputId": "24cb8f4a-d805-4a11-cc2c-d8a8402b9d24"
      },
      "execution_count": 14,
      "outputs": [
        {
          "output_type": "execute_result",
          "data": {
            "text/plain": [
              "KullaniciID              0\n",
              "Yas                      0\n",
              "Cinsiyet                 0\n",
              "UykuSuresiSaat           0\n",
              "EgzersizSıkligiHafta     0\n",
              "GunlukEkranSuresiSaat    0\n",
              "IstahSeviyesi            0\n",
              "StresSeviyesi            0\n",
              "Nabiz                    0\n",
              "Sigara                   0\n",
              "AlkolTuketimi            0\n",
              "MentalSaglikSkoru        0\n",
              "DepresyonRiski           0\n",
              "dtype: int64"
            ],
            "text/html": [
              "<div>\n",
              "<style scoped>\n",
              "    .dataframe tbody tr th:only-of-type {\n",
              "        vertical-align: middle;\n",
              "    }\n",
              "\n",
              "    .dataframe tbody tr th {\n",
              "        vertical-align: top;\n",
              "    }\n",
              "\n",
              "    .dataframe thead th {\n",
              "        text-align: right;\n",
              "    }\n",
              "</style>\n",
              "<table border=\"1\" class=\"dataframe\">\n",
              "  <thead>\n",
              "    <tr style=\"text-align: right;\">\n",
              "      <th></th>\n",
              "      <th>0</th>\n",
              "    </tr>\n",
              "  </thead>\n",
              "  <tbody>\n",
              "    <tr>\n",
              "      <th>KullaniciID</th>\n",
              "      <td>0</td>\n",
              "    </tr>\n",
              "    <tr>\n",
              "      <th>Yas</th>\n",
              "      <td>0</td>\n",
              "    </tr>\n",
              "    <tr>\n",
              "      <th>Cinsiyet</th>\n",
              "      <td>0</td>\n",
              "    </tr>\n",
              "    <tr>\n",
              "      <th>UykuSuresiSaat</th>\n",
              "      <td>0</td>\n",
              "    </tr>\n",
              "    <tr>\n",
              "      <th>EgzersizSıkligiHafta</th>\n",
              "      <td>0</td>\n",
              "    </tr>\n",
              "    <tr>\n",
              "      <th>GunlukEkranSuresiSaat</th>\n",
              "      <td>0</td>\n",
              "    </tr>\n",
              "    <tr>\n",
              "      <th>IstahSeviyesi</th>\n",
              "      <td>0</td>\n",
              "    </tr>\n",
              "    <tr>\n",
              "      <th>StresSeviyesi</th>\n",
              "      <td>0</td>\n",
              "    </tr>\n",
              "    <tr>\n",
              "      <th>Nabiz</th>\n",
              "      <td>0</td>\n",
              "    </tr>\n",
              "    <tr>\n",
              "      <th>Sigara</th>\n",
              "      <td>0</td>\n",
              "    </tr>\n",
              "    <tr>\n",
              "      <th>AlkolTuketimi</th>\n",
              "      <td>0</td>\n",
              "    </tr>\n",
              "    <tr>\n",
              "      <th>MentalSaglikSkoru</th>\n",
              "      <td>0</td>\n",
              "    </tr>\n",
              "    <tr>\n",
              "      <th>DepresyonRiski</th>\n",
              "      <td>0</td>\n",
              "    </tr>\n",
              "  </tbody>\n",
              "</table>\n",
              "</div><br><label><b>dtype:</b> int64</label>"
            ]
          },
          "metadata": {},
          "execution_count": 14
        }
      ]
    },
    {
      "cell_type": "code",
      "source": [
        "df[\"DepresyonRiski\"].fillna(df[\"DepresyonRiski\"].mode()[0], inplace=True)\n"
      ],
      "metadata": {
        "colab": {
          "base_uri": "https://localhost:8080/"
        },
        "id": "t3vJz2yYtqgY",
        "outputId": "13da334f-3479-40e2-da6c-f230e66b9963"
      },
      "execution_count": 13,
      "outputs": [
        {
          "output_type": "stream",
          "name": "stderr",
          "text": [
            "<ipython-input-13-e91ec0372dda>:1: FutureWarning: A value is trying to be set on a copy of a DataFrame or Series through chained assignment using an inplace method.\n",
            "The behavior will change in pandas 3.0. This inplace method will never work because the intermediate object on which we are setting values always behaves as a copy.\n",
            "\n",
            "For example, when doing 'df[col].method(value, inplace=True)', try using 'df.method({col: value}, inplace=True)' or df[col] = df[col].method(value) instead, to perform the operation inplace on the original object.\n",
            "\n",
            "\n",
            "  df[\"DepresyonRiski\"].fillna(df[\"DepresyonRiski\"].mode()[0], inplace=True)\n"
          ]
        }
      ]
    },
    {
      "cell_type": "code",
      "source": [
        "label_columns = [\"Cinsiyet\", \"IstahSeviyesi\", \"Sigara\", \"AlkolTuketimi\", \"DepresyonRiski\"]\n",
        "label_encoders = {}\n",
        "for col in label_columns:\n",
        "    le = LabelEncoder()\n",
        "    df[col] = le.fit_transform(df[col])\n",
        "    label_encoders[col] = le"
      ],
      "metadata": {
        "id": "2D6bbDg7txV4"
      },
      "execution_count": 15,
      "outputs": []
    },
    {
      "cell_type": "markdown",
      "source": [
        "eden Kullanılır?\n",
        "Makine öğrenmesi algoritmaları kategorik değişkenlerle doğrudan çalışamaz.\n",
        "\n",
        "Bu yüzden bu değişkenleri sayılara çevirmek gerekir.\n",
        "\n",
        "Label encoding en basit yöntemlerden biridir (her sınıfa bir tamsayı atanır)"
      ],
      "metadata": {
        "id": "Kew6AP7pcfsd"
      }
    },
    {
      "cell_type": "code",
      "source": [
        "X = df.drop(columns=[\"KullaniciID\", \"DepresyonRiski\"])\n",
        "y = df[\"DepresyonRiski\"]"
      ],
      "metadata": {
        "id": "22iVxc0ut3YG"
      },
      "execution_count": 16,
      "outputs": []
    },
    {
      "cell_type": "code",
      "source": [
        "# 4. Eğitim ve test setlerine ayır\n",
        "X_train, X_test, y_train, y_test = train_test_split(X, y, test_size=0.2, random_state=42)\n",
        "\n",
        "# 5. Özellikleri ölçekle\n",
        "scaler = StandardScaler()\n",
        "X_train_scaled = scaler.fit_transform(X_train)\n",
        "X_test_scaled = scaler.transform(X_test)"
      ],
      "metadata": {
        "id": "wHA2DH4St5WC"
      },
      "execution_count": 17,
      "outputs": []
    },
    {
      "cell_type": "code",
      "source": [
        "# 6. Modeli oluştur ve eğit\n",
        "model = RandomForestClassifier(n_estimators=100, random_state=42)\n",
        "model.fit(X_train_scaled, y_train)\n",
        "\n",
        "# 7. Tahmin yap ve sonuçları değerlendir\n",
        "y_pred = model.predict(X_test_scaled)\n",
        "print(\"Doğruluk Skoru:\", accuracy_score(y_test, y_pred))\n",
        "print(\"\\nSınıflandırma Raporu:\\n\", classification_report(y_test, y_pred))"
      ],
      "metadata": {
        "colab": {
          "base_uri": "https://localhost:8080/"
        },
        "id": "bxQWlnQTt7q4",
        "outputId": "200b5490-aee4-4cad-9c53-abf3f0f608d0"
      },
      "execution_count": 18,
      "outputs": [
        {
          "output_type": "stream",
          "name": "stdout",
          "text": [
            "Doğruluk Skoru: 1.0\n",
            "\n",
            "Sınıflandırma Raporu:\n",
            "               precision    recall  f1-score   support\n",
            "\n",
            "           0       1.00      1.00      1.00     14063\n",
            "           1       1.00      1.00      1.00     35937\n",
            "\n",
            "    accuracy                           1.00     50000\n",
            "   macro avg       1.00      1.00      1.00     50000\n",
            "weighted avg       1.00      1.00      1.00     50000\n",
            "\n"
          ]
        }
      ]
    },
    {
      "cell_type": "markdown",
      "source": [
        "Genel Doğruluk (Accuracy): 1.00\n",
        "Model, 50.000 örneğin tamamını doğru tahmin etmiş.\n",
        "\n",
        "Bu, gerçek dünyadaki veri setlerinde nadir görülen bir sonuçtur. Model çok karmaşık bir öğrenme yapısı kurmuş olabilir veya hatalı bir test yapılmış olabilir."
      ],
      "metadata": {
        "id": "PY7XlMRVcRll"
      }
    },
    {
      "cell_type": "code",
      "source": [
        "\n",
        "# 1. Confusion matrix'i hesapla\n",
        "cm = confusion_matrix(y_test, y_pred)\n",
        "\n",
        "# 2. Etiketleri anlamlı hale getir\n",
        "labels = label_encoders[\"DepresyonRiski\"].classes_  # [\"Hayır\", \"Evet\"] gibi\n",
        "\n",
        "# 3. Görselleştir\n",
        "plt.figure(figsize=(6, 4))\n",
        "sns.heatmap(cm, annot=True, fmt='d', cmap='Blues', xticklabels=labels, yticklabels=labels)\n",
        "plt.xlabel(\"Tahmin Edilen\")\n",
        "plt.ylabel(\"Gerçek\")\n",
        "plt.title(\"Confusion Matrix\")\n",
        "plt.tight_layout()\n",
        "plt.show()"
      ],
      "metadata": {
        "colab": {
          "base_uri": "https://localhost:8080/",
          "height": 407
        },
        "id": "u7oTYHVIubGK",
        "outputId": "be05d441-34ce-461d-f450-554239b5f8f0"
      },
      "execution_count": 19,
      "outputs": [
        {
          "output_type": "display_data",
          "data": {
            "text/plain": [
              "<Figure size 600x400 with 2 Axes>"
            ],
            "image/png": "[encoded data removed]"
          },
          "metadata": {}
        }
      ]
    },
    {
      "cell_type": "code",
      "source": [
        "from sklearn.linear_model import LogisticRegression\n",
        "\n",
        "# 1. Lojistik regresyon modelini oluştur\n",
        "log_model = LogisticRegression(max_iter=1000, random_state=42)\n",
        "\n",
        "# 2. Modeli eğit\n",
        "log_model.fit(X_train_scaled, y_train)\n",
        "\n",
        "# 3. Test verisiyle tahmin yap\n",
        "y_pred_log = log_model.predict(X_test_scaled)\n",
        "\n",
        "# 4. Performansı değerlendir\n",
        "print(\"Lojistik Regresyon - Doğruluk Skoru:\", accuracy_score(y_test, y_pred_log))\n",
        "print(\"\\nSınıflandırma Raporu:\\n\", classification_report(y_test, y_pred_log))"
      ],
      "metadata": {
        "colab": {
          "base_uri": "https://localhost:8080/"
        },
        "id": "t8iqBHM5ury7",
        "outputId": "61ef24e5-8072-435e-8f36-b9bc154320c8"
      },
      "execution_count": 20,
      "outputs": [
        {
          "output_type": "stream",
          "name": "stdout",
          "text": [
            "Lojistik Regresyon - Doğruluk Skoru: 0.85004\n",
            "\n",
            "Sınıflandırma Raporu:\n",
            "               precision    recall  f1-score   support\n",
            "\n",
            "           0       0.76      0.68      0.72     14063\n",
            "           1       0.88      0.92      0.90     35937\n",
            "\n",
            "    accuracy                           0.85     50000\n",
            "   macro avg       0.82      0.80      0.81     50000\n",
            "weighted avg       0.85      0.85      0.85     50000\n",
            "\n"
          ]
        }
      ]
    },
    {
      "cell_type": "markdown",
      "source": [
        "Modelin genel doğruluğu %85. Yani 50.000 örneğin 42.502'si doğru, 7.498'i yanlış sınıflandırılmış.\n",
        "\n",
        "Bu, oldukça iyi bir sonuç olarak değerlendirilebilir — ama sınıf dengesine bağlı olarak tek başına yeterli değil."
      ],
      "metadata": {
        "id": "CoOqBRLBcBkB"
      }
    },
    {
      "cell_type": "code",
      "source": [
        "import joblib\n",
        "\n",
        "# Modeli kaydet\n",
        "joblib.dump(log_model, \"logistic_model.pkl\")\n",
        "\n",
        "# Scaler'ı da kaydet (Streamlit'te kullanmak için)\n",
        "joblib.dump(scaler, \"scaler.pkl\")\n"
      ],
      "metadata": {
        "colab": {
          "base_uri": "https://localhost:8080/"
        },
        "id": "-OEA2eGIu_Ww",
        "outputId": "6d47e59c-cf1b-46e3-c904-4c706d783d18"
      },
      "execution_count": 21,
      "outputs": [
        {
          "output_type": "execute_result",
          "data": {
            "text/plain": [
              "['scaler.pkl']"
            ]
          },
          "metadata": {},
          "execution_count": 21
        }
      ]
    },
    {
      "cell_type": "code",
      "source": [
        "# Özellikleri göster\n",
        "try:\n",
        "    print(\"Features listesi:\", features)\n",
        "except NameError:\n",
        "    print(\"features değişkeni tanımlı değil.\")\n",
        "\n",
        "try:\n",
        "    print(\"Scaler özellik sayısı:\", scaler.n_features_in_)\n",
        "except NameError:\n",
        "    print(\"scaler değişkeni tanımlı değil.\")\n",
        "except AttributeError:\n",
        "    print(\"scaler fit edilmemiş ya da n_features_in_ özelliği yok.\")\n",
        "\n",
        "try:\n",
        "    print(\"Model özellik sayısı:\", model.n_features_in_)\n",
        "except NameError:\n",
        "    print(\"model değişkeni tanımlı değil.\")\n",
        "except AttributeError:\n",
        "    print(\"model n_features_in_ özelliğine sahip değil.\")\n"
      ],
      "metadata": {
        "colab": {
          "base_uri": "https://localhost:8080/"
        },
        "id": "sgyCZivBxEUC",
        "outputId": "988e7717-698c-4499-c2b0-069b6c3d3e06"
      },
      "execution_count": 22,
      "outputs": [
        {
          "output_type": "stream",
          "name": "stdout",
          "text": [
            "features değişkeni tanımlı değil.\n",
            "Scaler özellik sayısı: 11\n",
            "Model özellik sayısı: 11\n"
          ]
        }
      ]
    }
  ]
}